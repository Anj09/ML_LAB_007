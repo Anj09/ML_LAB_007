{
 "cells": [
  {
   "cell_type": "markdown",
   "id": "e60aa45f",
   "metadata": {},
   "source": [
    "# 1) LOGISTIC REGRESSION MODEL"
   ]
  },
  {
   "cell_type": "code",
   "execution_count": 27,
   "id": "35bab9eb",
   "metadata": {},
   "outputs": [],
   "source": [
    "import numpy as np\n",
    "import pandas as pd\n",
    "from sklearn.linear_model import LogisticRegression\n",
    "from sklearn.model_selection import train_test_split\n",
    "from sklearn.metrics import confusion_matrix, accuracy_score"
   ]
  },
  {
   "cell_type": "code",
   "execution_count": 28,
   "id": "34fec1aa",
   "metadata": {},
   "outputs": [],
   "source": [
    "import warnings\n",
    "warnings.filterwarnings('ignore')\n"
   ]
  },
  {
   "cell_type": "markdown",
   "id": "43a0f0bf",
   "metadata": {},
   "source": [
    "## DATASET USED IS LUNG CANCER "
   ]
  },
  {
   "cell_type": "code",
   "execution_count": 29,
   "id": "352f4ff9",
   "metadata": {},
   "outputs": [
    {
     "data": {
      "text/html": [
       "<div>\n",
       "<style scoped>\n",
       "    .dataframe tbody tr th:only-of-type {\n",
       "        vertical-align: middle;\n",
       "    }\n",
       "\n",
       "    .dataframe tbody tr th {\n",
       "        vertical-align: top;\n",
       "    }\n",
       "\n",
       "    .dataframe thead th {\n",
       "        text-align: right;\n",
       "    }\n",
       "</style>\n",
       "<table border=\"1\" class=\"dataframe\">\n",
       "  <thead>\n",
       "    <tr style=\"text-align: right;\">\n",
       "      <th></th>\n",
       "      <th>Age</th>\n",
       "      <th>Smokes</th>\n",
       "      <th>Alcohol</th>\n",
       "      <th>Result</th>\n",
       "    </tr>\n",
       "  </thead>\n",
       "  <tbody>\n",
       "    <tr>\n",
       "      <th>count</th>\n",
       "      <td>107.000000</td>\n",
       "      <td>107.000000</td>\n",
       "      <td>107.000000</td>\n",
       "      <td>107.000000</td>\n",
       "    </tr>\n",
       "    <tr>\n",
       "      <th>mean</th>\n",
       "      <td>43.635514</td>\n",
       "      <td>16.046729</td>\n",
       "      <td>3.280374</td>\n",
       "      <td>0.485981</td>\n",
       "    </tr>\n",
       "    <tr>\n",
       "      <th>std</th>\n",
       "      <td>15.229931</td>\n",
       "      <td>6.724193</td>\n",
       "      <td>2.188281</td>\n",
       "      <td>0.502155</td>\n",
       "    </tr>\n",
       "    <tr>\n",
       "      <th>min</th>\n",
       "      <td>18.000000</td>\n",
       "      <td>0.000000</td>\n",
       "      <td>0.000000</td>\n",
       "      <td>0.000000</td>\n",
       "    </tr>\n",
       "    <tr>\n",
       "      <th>25%</th>\n",
       "      <td>32.000000</td>\n",
       "      <td>12.000000</td>\n",
       "      <td>2.000000</td>\n",
       "      <td>0.000000</td>\n",
       "    </tr>\n",
       "    <tr>\n",
       "      <th>50%</th>\n",
       "      <td>42.000000</td>\n",
       "      <td>20.000000</td>\n",
       "      <td>3.000000</td>\n",
       "      <td>0.000000</td>\n",
       "    </tr>\n",
       "    <tr>\n",
       "      <th>75%</th>\n",
       "      <td>56.000000</td>\n",
       "      <td>20.000000</td>\n",
       "      <td>4.500000</td>\n",
       "      <td>1.000000</td>\n",
       "    </tr>\n",
       "    <tr>\n",
       "      <th>max</th>\n",
       "      <td>77.000000</td>\n",
       "      <td>34.000000</td>\n",
       "      <td>8.000000</td>\n",
       "      <td>1.000000</td>\n",
       "    </tr>\n",
       "  </tbody>\n",
       "</table>\n",
       "</div>"
      ],
      "text/plain": [
       "              Age      Smokes     Alcohol      Result\n",
       "count  107.000000  107.000000  107.000000  107.000000\n",
       "mean    43.635514   16.046729    3.280374    0.485981\n",
       "std     15.229931    6.724193    2.188281    0.502155\n",
       "min     18.000000    0.000000    0.000000    0.000000\n",
       "25%     32.000000   12.000000    2.000000    0.000000\n",
       "50%     42.000000   20.000000    3.000000    0.000000\n",
       "75%     56.000000   20.000000    4.500000    1.000000\n",
       "max     77.000000   34.000000    8.000000    1.000000"
      ]
     },
     "execution_count": 29,
     "metadata": {},
     "output_type": "execute_result"
    }
   ],
   "source": [
    "df= pd.read_csv('/Users/anjali98/lc.csv') \n",
    "df.head()\n",
    "df.describe() "
   ]
  },
  {
   "cell_type": "code",
   "execution_count": 30,
   "id": "d8a6d8bf",
   "metadata": {},
   "outputs": [
    {
     "name": "stdout",
     "output_type": "stream",
     "text": [
      "Number of null values in the data set are -  0\n"
     ]
    }
   ],
   "source": [
    "print(\"Number of null values in the data set are - \",df.isnull().values.any().sum())"
   ]
  },
  {
   "cell_type": "code",
   "execution_count": 31,
   "id": "6f674e2b",
   "metadata": {},
   "outputs": [],
   "source": [
    "from sklearn.model_selection import train_test_split\n",
    "y= df['Result']\n",
    "x= df.drop(['Result'], axis=1)\n",
    "x_train, x_test, y_train, y_test = train_test_split(x,y, test_size= 0.4,random_state=42)"
   ]
  },
  {
   "cell_type": "code",
   "execution_count": 32,
   "id": "15180146",
   "metadata": {},
   "outputs": [
    {
     "data": {
      "text/plain": [
       "LogisticRegression()"
      ]
     },
     "execution_count": 32,
     "metadata": {},
     "output_type": "execute_result"
    }
   ],
   "source": [
    "modelLogistic = LogisticRegression()\n",
    "modelLogistic.fit(x_train,y_train)"
   ]
  },
  {
   "cell_type": "code",
   "execution_count": 33,
   "id": "5afddb29",
   "metadata": {},
   "outputs": [
    {
     "name": "stdout",
     "output_type": "stream",
     "text": [
      "The intercept b0=  [-20.40018975]\n",
      "The coefficient b1=  [[0.24838255 0.24177754 1.70960268]]\n"
     ]
    }
   ],
   "source": [
    "print(\"The intercept b0= \", modelLogistic.intercept_)\n",
    "\n",
    "print(\"The coefficient b1= \", modelLogistic.coef_)"
   ]
  },
  {
   "cell_type": "code",
   "execution_count": 34,
   "id": "efa17cfa",
   "metadata": {},
   "outputs": [],
   "source": [
    "ypred = modelLogistic.predict(x_test)"
   ]
  },
  {
   "cell_type": "code",
   "execution_count": 35,
   "id": "45dca017",
   "metadata": {},
   "outputs": [
    {
     "name": "stdout",
     "output_type": "stream",
     "text": [
      "[[23  0]\n",
      " [ 1 19]]\n"
     ]
    }
   ],
   "source": [
    "log_score = modelLogistic.score(x_test, y_test)\n",
    "\n",
    "from sklearn import metrics\n",
    "cm = metrics.confusion_matrix(y_test, ypred)\n",
    "print(cm)"
   ]
  },
  {
   "cell_type": "markdown",
   "id": "75c93c63",
   "metadata": {},
   "source": [
    "## FINAL ACCURACY SCORE "
   ]
  },
  {
   "cell_type": "code",
   "execution_count": 36,
   "id": "1d1bd784",
   "metadata": {
    "scrolled": true
   },
   "outputs": [
    {
     "name": "stdout",
     "output_type": "stream",
     "text": [
      "Accuracy Score: 0.9767441860465116\n"
     ]
    }
   ],
   "source": [
    "all_sample_title = 'Accuracy Score: {0}'.format(log_score)\n",
    "print(all_sample_title)"
   ]
  },
  {
   "cell_type": "code",
   "execution_count": null,
   "id": "c482ecc0",
   "metadata": {},
   "outputs": [],
   "source": []
  }
 ],
 "metadata": {
  "kernelspec": {
   "display_name": "Python 3 (ipykernel)",
   "language": "python",
   "name": "python3"
  },
  "language_info": {
   "codemirror_mode": {
    "name": "ipython",
    "version": 3
   },
   "file_extension": ".py",
   "mimetype": "text/x-python",
   "name": "python",
   "nbconvert_exporter": "python",
   "pygments_lexer": "ipython3",
   "version": "3.9.7"
  }
 },
 "nbformat": 4,
 "nbformat_minor": 5
}
